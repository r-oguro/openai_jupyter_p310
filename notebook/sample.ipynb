{
 "cells": [
  {
   "cell_type": "code",
   "execution_count": 4,
   "metadata": {},
   "outputs": [],
   "source": [
    "from dotenv import load_dotenv\n",
    "import os\n",
    "import openai\n",
    "from openai import OpenAI\n",
    "import time\n",
    "import json\n",
    "import tiktoken\n",
    "\n",
    "def setenv(filename=None):\n",
    "    if filename is None:\n",
    "        return\n",
    "    load_dotenv(os.path.expanduser(filename), override=True, verbose=True)\n",
    "    openai.api_type = os.getenv(\"OPENAI_API_TYPE\")\n",
    "    openai.api_base = os.getenv(\"OPENAI_API_BASE\")\n",
    "    openai.api_version = os.getenv(\"OPENAI_API_VERSION\")\n",
    "    openai.api_key = os.getenv(\"OPENAI_API_KEY\")\n",
    "\n",
    "def num_tokens_from_string(string: str, model_name: str) -> int:\n",
    "    \"\"\"Returns the number of tokens in a text string.\"\"\"\n",
    "    encoding = tiktoken.encoding_for_model(model_name)\n",
    "    num_tokens = len(encoding.encode(string))\n",
    "    return num_tokens\n",
    "\n",
    "def num_tokens_from_messages(messages: list, model_name: str) -> int:\n",
    "    \"\"\"Returns the number of tokens in messages content\"\"\"\n",
    "    encoding = tiktoken.encoding_for_model(model_name)\n",
    "    num_tokens = 3\n",
    "    for message in messages:\n",
    "        num_tokens = num_tokens + 4 + len(encoding.encode(message[\"content\"]))\n",
    "    return num_tokens\n"
   ]
  },
  {
   "cell_type": "code",
   "execution_count": 5,
   "metadata": {},
   "outputs": [
    {
     "name": "stdout",
     "output_type": "stream",
     "text": [
      "epapsed_time: 7.202s\n",
      "CompletionUsage(completion_tokens=26, prompt_tokens=16, total_tokens=42)\n",
      "\n",
      "{\"message\": \"こんにちは！どのようにお手伝いしましょうか？\"}\n"
     ]
    }
   ],
   "source": [
    "# setenv(\"~/.openai_api_key.sh\")\n",
    "client = OpenAI()\n",
    "_start = time.time()\n",
    "response = client.chat.completions.create(\n",
    "    model=\"gpt-3.5-turbo-1106\",\n",
    "    # model=\"gpt-4-1106-preview\",\n",
    "    response_format={\"type\":\"json_object\"},\n",
    "    messages=[\n",
    "        {\"role\": \"system\", \"content\": \"type: json_object\"},\n",
    "        {\"role\": \"user\", \"content\": \"こんにちは\"},\n",
    "    ]\n",
    ")\n",
    "elapsed_time = time.time() - _start\n",
    "print(\"epapsed_time: {:.3f}s\".format(elapsed_time))\n",
    "print(response.usage)\n",
    "print(response.choices[0].message.content)"
   ]
  }
 ],
 "metadata": {
  "kernelspec": {
   "display_name": ".venv",
   "language": "python",
   "name": "python3"
  },
  "language_info": {
   "codemirror_mode": {
    "name": "ipython",
    "version": 3
   },
   "file_extension": ".py",
   "mimetype": "text/x-python",
   "name": "python",
   "nbconvert_exporter": "python",
   "pygments_lexer": "ipython3",
   "version": "3.10.12"
  }
 },
 "nbformat": 4,
 "nbformat_minor": 2
}
